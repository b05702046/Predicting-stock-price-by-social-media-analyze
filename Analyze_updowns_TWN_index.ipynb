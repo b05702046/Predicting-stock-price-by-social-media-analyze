{
 "cells": [
  {
   "cell_type": "code",
   "execution_count": null,
   "metadata": {},
   "outputs": [],
   "source": [
    "import csv"
   ]
  },
  {
   "cell_type": "code",
   "execution_count": null,
   "metadata": {},
   "outputs": [],
   "source": [
    "pathway = ['news_all.csv','forum_all.csv','bbs_clean.csv']\n",
    "\n",
    "def openCSV(fileName):\n",
    "    contents = []\n",
    "    with open(fileName, newline='') as csvfile:\n",
    "\n",
    "#         讀取 CSV 檔案內容\n",
    "        content = csv.reader(csvfile)\n",
    "        next(content)\n",
    "#         以迴圈輸出每一列\n",
    "        for row in content:\n",
    "            contents.append(row)\n",
    "#         print(len(contents))\n",
    "        return contents\n",
    "\n",
    "contents_total = []\n",
    "for i in pathway:\n",
    "    contents_total+=openCSV(i) \n",
    "    #若是用append會變成直接裝入第二層list，所以要用加的"
   ]
  },
  {
   "cell_type": "code",
   "execution_count": null,
   "metadata": {},
   "outputs": [],
   "source": [
    "contents_total"
   ]
  },
  {
   "cell_type": "code",
   "execution_count": null,
   "metadata": {},
   "outputs": [],
   "source": [
    "total = {}\n",
    "time = {}\n",
    "stockKey = ['股價','台股','股票','大盤','股市']\n",
    "\n",
    "for row in contents_total:\n",
    "    for x in stockKey:\n",
    "        if x in row[-1]: \n",
    "            if row[0] not in total.keys(): \n",
    "                total[row[0]] = row[-1]\n",
    "                time[row[0]] = row[-4]\n",
    "            else:\n",
    "                print(row[0])"
   ]
  },
  {
   "cell_type": "code",
   "execution_count": null,
   "metadata": {},
   "outputs": [],
   "source": [
    "print(len(total))\n",
    "total"
   ]
  },
  {
   "cell_type": "code",
   "execution_count": null,
   "metadata": {},
   "outputs": [],
   "source": [
    "print(len(time))\n",
    "time"
   ]
  },
  {
   "cell_type": "code",
   "execution_count": null,
   "metadata": {},
   "outputs": [],
   "source": [
    "criteria_up = []\n",
    "\n",
    "with open ('up_refine.csv',newline='') as csvfile: #讀看漲關鍵字集\n",
    "    \n",
    "    for data in csvfile.readlines():\n",
    "        data = data.strip()\n",
    "        criteria_up.append(data)\n",
    "\n",
    "print(len(criteria_up))\n",
    "criteria_up"
   ]
  },
  {
   "cell_type": "code",
   "execution_count": null,
   "metadata": {},
   "outputs": [],
   "source": [
    "criteria_down = []\n",
    "\n",
    "with open ('down_refine.csv',newline='') as csvfile: #讀看漲關鍵字集\n",
    "    \n",
    "    for data in csvfile.readlines():\n",
    "        data = data.strip()\n",
    "        criteria_down.append(data)\n",
    "\n",
    "print(len(criteria_down))\n",
    "criteria_down"
   ]
  },
  {
   "cell_type": "code",
   "execution_count": null,
   "metadata": {},
   "outputs": [],
   "source": [
    "import re #（去掉各種詞）\n",
    "r1 = u\"[^\\u4e00-\\u9fa5]\"#去除英文及符號\n",
    "\n",
    "def clean(dicName):\n",
    "    newDic = {}\n",
    "    for key, value in list(dicName.items()):\n",
    "        newDic[key]=(re.sub(r1, '', value))\n",
    "    return newDic\n",
    "\n",
    "# list不用()，不然是另一種型態，但對操作沒差"
   ]
  },
  {
   "cell_type": "code",
   "execution_count": null,
   "metadata": {},
   "outputs": [],
   "source": [
    "clean_total = clean(total)\n",
    "print(len(clean_total))\n",
    "clean_total"
   ]
  },
  {
   "cell_type": "code",
   "execution_count": null,
   "metadata": {},
   "outputs": [],
   "source": [
    "up_paper = {}\n",
    "down_paper = {}\n",
    "else_paper = {}\n",
    "\n",
    "for key, value in list(clean_total.items()):\n",
    "    up = 0\n",
    "    down = 0\n",
    "    for keyU in criteria_up:\n",
    "        if keyU in value:\n",
    "            up += 1\n",
    "#             break\n",
    "    for keyD in criteria_down:\n",
    "        if keyD in value:\n",
    "            down += 1\n",
    "#             break\n",
    "    if up > down*1.05:\n",
    "        up_paper[key] = value\n",
    "    elif down > up*1.05:\n",
    "        down_paper[key] = value\n",
    "    else:\n",
    "        else_paper[key] = value\n",
    "        \n",
    "        \n",
    "print(len(up_paper),len(down_paper),len(else_paper))"
   ]
  },
  {
   "cell_type": "code",
   "execution_count": null,
   "metadata": {},
   "outputs": [],
   "source": [
    "up_paper"
   ]
  },
  {
   "cell_type": "code",
   "execution_count": null,
   "metadata": {},
   "outputs": [],
   "source": [
    "vector = []\n",
    "\n",
    "with open ('vector.csv',newline='') as csvfile: #讀看漲關鍵字集\n",
    "    \n",
    "    for data in csvfile.readlines():\n",
    "        data = data.strip()\n",
    "        vector.append(data)\n",
    "\n",
    "print(len(vector))\n",
    "vector"
   ]
  },
  {
   "cell_type": "code",
   "execution_count": null,
   "metadata": {},
   "outputs": [],
   "source": [
    "def buildVec(dicName, vecName):\n",
    "    result = {}\n",
    "    \n",
    "    for key, value in dicName.items(): #每一篇文章\n",
    "        vec = [0]*len(vecName)\n",
    "        for index, item in enumerate(vecName): #n是關鍵字\n",
    "            vec[index] = dicName[key].count(item)      \n",
    "        result[key] = vec\n",
    "        \n",
    "    return result"
   ]
  },
  {
   "cell_type": "code",
   "execution_count": null,
   "metadata": {},
   "outputs": [],
   "source": [
    "up_vec = buildVec(up_paper, vector)"
   ]
  },
  {
   "cell_type": "code",
   "execution_count": null,
   "metadata": {},
   "outputs": [],
   "source": [
    "for key, value in list(up_vec.items()):\n",
    "    max = 5\n",
    "    for i in value:\n",
    "        if i > max:\n",
    "            max = i\n",
    "    if max > 5:\n",
    "        print(key, max)"
   ]
  },
  {
   "cell_type": "code",
   "execution_count": null,
   "metadata": {},
   "outputs": [],
   "source": [
    "print(len(up_vec))"
   ]
  },
  {
   "cell_type": "code",
   "execution_count": null,
   "metadata": {},
   "outputs": [],
   "source": [
    "down_vec = buildVec(down_paper, vector)\n",
    "print(len(down_vec))"
   ]
  },
  {
   "cell_type": "code",
   "execution_count": 41,
   "metadata": {},
   "outputs": [
    {
     "name": "stdout",
     "output_type": "stream",
     "text": [
      "1530660304003_N01 52\n",
      "1530661233123_N01 52\n",
      "1532309864823_N01 21\n",
      "1532656502410_N01 24\n",
      "1533288293179_N01 40\n",
      "1533288310892_N01 40\n",
      "1535681429729_N01 21\n",
      "1537521768199_N01 56\n",
      "1537521773602_N01 56\n",
      "1538612494999_N01 22\n",
      "1540809997297_N01 40\n",
      "1540810002192_N01 40\n",
      "1540886714281_N01 28\n",
      "1540887573051_N01 28\n",
      "1541548387197_N01 60\n",
      "1541751997086_N01 22\n",
      "1542423246876_N01 22\n",
      "1543975281640_N01 22\n",
      "1545868290804_N01 60\n",
      "1545868307207_N01 60\n",
      "1468147082782_F01 29\n",
      "1500222537883_F01 22\n",
      "1528713684737_F01 29\n",
      "1461936326591_PTT02R 23\n",
      "1521038910922_PTT02R 22\n",
      "1521040741182_PTT02R 22\n",
      "1538719387425_PTT02R 27\n",
      "1541859731049_PTT02R 35\n",
      "1542988256925_PTT02R 28\n",
      "1543568549889_PTT02R 25\n"
     ]
    }
   ],
   "source": [
    "for key, value in list(down_vec.items()):\n",
    "    max = 20\n",
    "    for i in value:\n",
    "        if i > max:\n",
    "            max = i\n",
    "    if max > 20:\n",
    "        print(key, max)"
   ]
  },
  {
   "cell_type": "code",
   "execution_count": null,
   "metadata": {},
   "outputs": [],
   "source": [
    "count = 0\n",
    "\n",
    "for key, value in list(up_vec.items()):\n",
    "    if sum(value) >= 0:\n",
    "        print(key,sum(value))\n",
    "        count += 1"
   ]
  },
  {
   "cell_type": "code",
   "execution_count": null,
   "metadata": {},
   "outputs": [],
   "source": [
    "count = 0\n",
    "max_sum = 0\n",
    "for key, value in list(up_vec.items()):\n",
    "    if sum(value) > max_sum:\n",
    "        max_sum = sum(value)\n",
    "        count += 1\n",
    "    \n",
    "print(max_sum)"
   ]
  },
  {
   "cell_type": "code",
   "execution_count": null,
   "metadata": {},
   "outputs": [],
   "source": [
    "count = 0\n",
    "max_sum = 0\n",
    "for key, value in list(down_vec.items()):\n",
    "    if sum(value) > max_sum:\n",
    "        max_sum = sum(value)\n",
    "        count += 1\n",
    "    \n",
    "print(max_sum)"
   ]
  },
  {
   "cell_type": "code",
   "execution_count": 54,
   "metadata": {},
   "outputs": [],
   "source": [
    "from sklearn.model_selection import train_test_split as sp\n",
    "from sklearn.naive_bayes import BernoulliNB as Bnb\n",
    "from sklearn.naive_bayes import MultinomialNB as Mnb\n",
    "from sklearn.neighbors import KNeighborsClassifier as knn\n",
    "from sklearn import svm\n",
    "from sklearn.tree import DecisionTreeClassifier as dt\n",
    "from sklearn.ensemble import RandomForestClassifier as rf\n",
    "from sklearn.model_selection import cross_val_score"
   ]
  },
  {
   "cell_type": "code",
   "execution_count": 78,
   "metadata": {},
   "outputs": [],
   "source": [
    "import matplotlib.pyplot as plt\n",
    "from sklearn.metrics import plot_confusion_matrix"
   ]
  },
  {
   "cell_type": "code",
   "execution_count": 42,
   "metadata": {},
   "outputs": [],
   "source": [
    "#大寫代表矩陣，小寫是指標\n",
    "X_up = []\n",
    "for value in up_vec.values():\n",
    "    X_up.append(value)\n",
    "#看漲為1，看跌為0，數字比較不會出錯\n",
    "y_up = [0]*len(up_vec)  "
   ]
  },
  {
   "cell_type": "code",
   "execution_count": 43,
   "metadata": {},
   "outputs": [],
   "source": [
    "#各自切割：看漲\n",
    "X_up_train, X_up_test, y_up_train, y_up_test = sp(X_up, y_up, test_size = 0.3)                                                                                                               "
   ]
  },
  {
   "cell_type": "code",
   "execution_count": 49,
   "metadata": {},
   "outputs": [],
   "source": [
    "#各自切割：看跌\n",
    "X_down = []\n",
    "for value in down_vec.values():\n",
    "    X_down.append(value)\n",
    "    \n",
    "y_down = [1]*len(down_vec)   "
   ]
  },
  {
   "cell_type": "code",
   "execution_count": 50,
   "metadata": {},
   "outputs": [],
   "source": [
    "X_down_train, X_down_test, y_down_train, y_down_test = sp(X_down, y_down, test_size = 0.3)   "
   ]
  },
  {
   "cell_type": "code",
   "execution_count": 53,
   "metadata": {},
   "outputs": [
    {
     "name": "stdout",
     "output_type": "stream",
     "text": [
      "29066\n",
      "12459\n",
      "29066\n",
      "12459\n"
     ]
    }
   ],
   "source": [
    "#相加看漲看跌\n",
    "X_train = X_up_train + X_down_train\n",
    "print(len(X_train))\n",
    "X_test = X_up_test + X_down_test\n",
    "print(len(X_test))\n",
    "y_train = y_up_train + y_down_train\n",
    "print(len(y_train))\n",
    "y_test = y_up_test + y_down_test\n",
    "print(len(y_test))"
   ]
  },
  {
   "cell_type": "code",
   "execution_count": 116,
   "metadata": {},
   "outputs": [],
   "source": [
    "#各個演算法的function\n",
    "clfList = ['Bnb','Mnb','knn','svm','dt','rf']\n",
    "\n",
    "seed = 0\n",
    "def clf(clfName, Xtn, Xtt, ytn, ytt):\n",
    "    \n",
    "    if 'svm' not in str(clfName):\n",
    "        if ('dt' or 'rf') in str(clfName):\n",
    "            clfName_clf = clfName(max_depth = 10)\n",
    "        else:\n",
    "            clfName_clf = clfName()\n",
    "    if 'svm' in str(clfName):\n",
    "        seed = svm.SVC(kernel='linear', C=1).fit(Xtn, ytn)\n",
    "        # C為平滑度，愈平滑愈不會overfit\n",
    "    else:        \n",
    "        seed = clfName_clf.fit(Xtn, ytn)\n",
    "#     clfName_clf.score(x_test, y_test)\n",
    "    \n",
    "    scores_clfName = cross_val_score(clfName_clf, Xtt, ytt, cv=5)\n",
    "    \n",
    "    clf = [clfName_clf.score(Xtt, ytt), scores_clfName.mean(), scores_clfName]\n",
    "\n",
    "    titles_options = [(\"Confusion matrix, without normalization\", None),\n",
    "                  (\"Normalized confusion matrix\", 'true')]\n",
    "    for title, normalize in titles_options:\n",
    "        disp = plot_confusion_matrix(seed, X_test, y_test,\n",
    "                                 display_labels=['up','down'],\n",
    "                                 cmap=plt.cm.Blues,\n",
    "                                 normalize=normalize)\n",
    "        disp.ax_.set_title(title)\n",
    "\n",
    "        print(title)\n",
    "        print(disp.confusion_matrix)\n",
    "\n",
    "    plt.show()\n",
    "    \n",
    "    return clf"
   ]
  },
  {
   "cell_type": "code",
   "execution_count": 93,
   "metadata": {},
   "outputs": [
    {
     "name": "stdout",
     "output_type": "stream",
     "text": [
      "Confusion matrix, without normalization\n",
      "[[5659    5]\n",
      " [ 285 6510]]\n",
      "Normalized confusion matrix\n",
      "[[9.99117232e-01 8.82768362e-04]\n",
      " [4.19426049e-02 9.58057395e-01]]\n"
     ]
    },
    {
     "data": {
      "image/png": "[encoded data removed]",
      "text/plain": [
       "<Figure size 432x288 with 2 Axes>"
      ]
     },
     "metadata": {
      "needs_background": "light"
     },
     "output_type": "display_data"
    },
    {
     "data": {
      "image/png": "[encoded data removed]",
      "text/plain": [
       "<Figure size 432x288 with 2 Axes>"
      ]
     },
     "metadata": {
      "needs_background": "light"
     },
     "output_type": "display_data"
    }
   ],
   "source": [
    "rf_clf = clf(rf,X_train, X_test, y_train, y_test)"
   ]
  },
  {
   "cell_type": "code",
   "execution_count": 94,
   "metadata": {},
   "outputs": [
    {
     "data": {
      "text/plain": [
       "[0.9767236535837547,\n",
       " 0.9666910025369017,\n",
       " array([0.96388443, 0.96147673, 0.97110754, 0.9670947 , 0.96989161])]"
      ]
     },
     "execution_count": 94,
     "metadata": {},
     "output_type": "execute_result"
    }
   ],
   "source": [
    "rf_clf"
   ]
  },
  {
   "cell_type": "code",
   "execution_count": 111,
   "metadata": {},
   "outputs": [
    {
     "name": "stdout",
     "output_type": "stream",
     "text": [
      "Confusion matrix, without normalization\n",
      "[[5587   77]\n",
      " [ 226 6569]]\n",
      "Normalized confusion matrix\n",
      "[[0.98640537 0.01359463]\n",
      " [0.03325975 0.96674025]]\n"
     ]
    },
    {
     "data": {
      "image/png": "[encoded data removed]",
      "text/plain": [
       "<Figure size 432x288 with 2 Axes>"
      ]
     },
     "metadata": {
      "needs_background": "light"
     },
     "output_type": "display_data"
    },
    {
     "data": {
      "image/png": "[encoded data removed]",
      "text/plain": [
       "<Figure size 432x288 with 2 Axes>"
      ]
     },
     "metadata": {
      "needs_background": "light"
     },
     "output_type": "display_data"
    },
    {
     "data": {
      "text/plain": [
       "[0.9756802311581989,\n",
       " 0.9659684656094203,\n",
       " array([0.96187801, 0.96308186, 0.96829856, 0.96950241, 0.96708149])]"
      ]
     },
     "execution_count": 111,
     "metadata": {},
     "output_type": "execute_result"
    }
   ],
   "source": [
    "dt_clf = clf(dt, X_train, X_test, y_train, y_test)\n",
    "dt_clf"
   ]
  },
  {
   "cell_type": "code",
   "execution_count": 112,
   "metadata": {},
   "outputs": [
    {
     "name": "stdout",
     "output_type": "stream",
     "text": [
      "Confusion matrix, without normalization\n",
      "[[5601   63]\n",
      " [ 201 6594]]\n",
      "Normalized confusion matrix\n",
      "[[0.98887712 0.01112288]\n",
      " [0.02958057 0.97041943]]\n"
     ]
    },
    {
     "data": {
      "image/png": "[encoded data removed]",
      "text/plain": [
       "<Figure size 432x288 with 2 Axes>"
      ]
     },
     "metadata": {
      "needs_background": "light"
     },
     "output_type": "display_data"
    },
    {
     "data": {
      "image/png": "[encoded data removed]",
      "text/plain": [
       "<Figure size 432x288 with 2 Axes>"
      ]
     },
     "metadata": {
      "needs_background": "light"
     },
     "output_type": "display_data"
    },
    {
     "data": {
      "text/plain": [
       "[0.9788104984348663,\n",
       " 0.9761621451994434,\n",
       " array([0.9747191 , 0.97431782, 0.97552167, 0.97592295, 0.98032919])]"
      ]
     },
     "execution_count": 112,
     "metadata": {},
     "output_type": "execute_result"
    }
   ],
   "source": [
    "Bnb_clf = clf(Bnb, X_train, X_test, y_train, y_test)\n",
    "Bnb_clf"
   ]
  },
  {
   "cell_type": "code",
   "execution_count": 113,
   "metadata": {},
   "outputs": [
    {
     "name": "stdout",
     "output_type": "stream",
     "text": [
      "Confusion matrix, without normalization\n",
      "[[5576   88]\n",
      " [ 315 6480]]\n",
      "Normalized confusion matrix\n",
      "[[0.98446328 0.01553672]\n",
      " [0.04635762 0.95364238]]\n"
     ]
    },
    {
     "data": {
      "image/png": "[encoded data removed]",
      "text/plain": [
       "<Figure size 432x288 with 2 Axes>"
      ]
     },
     "metadata": {
      "needs_background": "light"
     },
     "output_type": "display_data"
    },
    {
     "data": {
      "image/png": "[encoded data removed]",
      "text/plain": [
       "<Figure size 432x288 with 2 Axes>"
      ]
     },
     "metadata": {
      "needs_background": "light"
     },
     "output_type": "display_data"
    },
    {
     "data": {
      "text/plain": [
       "[0.9676539048077695,\n",
       " 0.9658885309747515,\n",
       " array([0.96348315, 0.96589085, 0.96629213, 0.96268058, 0.97109595])]"
      ]
     },
     "execution_count": 113,
     "metadata": {},
     "output_type": "execute_result"
    }
   ],
   "source": [
    "Mnb_clf = clf(Mnb, X_train, X_test, y_train, y_test)\n",
    "Mnb_clf"
   ]
  },
  {
   "cell_type": "code",
   "execution_count": 114,
   "metadata": {},
   "outputs": [
    {
     "name": "stdout",
     "output_type": "stream",
     "text": [
      "Confusion matrix, without normalization\n",
      "[[5538  126]\n",
      " [ 605 6190]]\n",
      "Normalized confusion matrix\n",
      "[[0.97775424 0.02224576]\n",
      " [0.08903606 0.91096394]]\n"
     ]
    },
    {
     "data": {
      "image/png": "[encoded data removed]",
      "text/plain": [
       "<Figure size 432x288 with 2 Axes>"
      ]
     },
     "metadata": {
      "needs_background": "light"
     },
     "output_type": "display_data"
    },
    {
     "data": {
      "image/png": "[encoded data removed]",
      "text/plain": [
       "<Figure size 432x288 with 2 Axes>"
      ]
     },
     "metadata": {
      "needs_background": "light"
     },
     "output_type": "display_data"
    },
    {
     "data": {
      "text/plain": [
       "[0.941327554378361,\n",
       " 0.9341841866675086,\n",
       " array([0.92857143, 0.93820225, 0.93699839, 0.93218299, 0.93496588])]"
      ]
     },
     "execution_count": 114,
     "metadata": {},
     "output_type": "execute_result"
    }
   ],
   "source": [
    "knn_clf = clf(knn, X_train, X_test, y_train, y_test)\n",
    "knn_clf"
   ]
  },
  {
   "cell_type": "code",
   "execution_count": 118,
   "metadata": {},
   "outputs": [],
   "source": [
    "va = svm.SVC(kernel='linear', C=1).fit(x_train, y_train)"
   ]
  },
  {
   "cell_type": "code",
   "execution_count": 119,
   "metadata": {},
   "outputs": [
    {
     "data": {
      "text/plain": [
       "0.9964684164058111"
      ]
     },
     "execution_count": 119,
     "metadata": {},
     "output_type": "execute_result"
    }
   ],
   "source": [
    "va.score(x_test, y_test)"
   ]
  },
  {
   "cell_type": "code",
   "execution_count": 120,
   "metadata": {},
   "outputs": [],
   "source": [
    "scores = cross_val_score(va, x_test, y_test, cv=5)"
   ]
  },
  {
   "cell_type": "code",
   "execution_count": 121,
   "metadata": {},
   "outputs": [
    {
     "data": {
      "text/plain": [
       "0.9957460340371403"
      ]
     },
     "execution_count": 121,
     "metadata": {},
     "output_type": "execute_result"
    }
   ],
   "source": [
    "scores.mean()"
   ]
  },
  {
   "cell_type": "code",
   "execution_count": 122,
   "metadata": {},
   "outputs": [
    {
     "name": "stdout",
     "output_type": "stream",
     "text": [
      "Confusion matrix, without normalization\n",
      "[[5643   21]\n",
      " [  23 6772]]\n",
      "Normalized confusion matrix\n",
      "[[0.99629237 0.00370763]\n",
      " [0.00338484 0.99661516]]\n"
     ]
    },
    {
     "data": {
      "image/png": "[encoded data removed]",
      "text/plain": [
       "<Figure size 432x288 with 2 Axes>"
      ]
     },
     "metadata": {
      "needs_background": "light"
     },
     "output_type": "display_data"
    },
    {
     "data": {
      "image/png": "[encoded data removed]",
      "text/plain": [
       "<Figure size 432x288 with 2 Axes>"
      ]
     },
     "metadata": {
      "needs_background": "light"
     },
     "output_type": "display_data"
    }
   ],
   "source": [
    "titles_options = [(\"Confusion matrix, without normalization\", None),\n",
    "                  (\"Normalized confusion matrix\", 'true')]\n",
    "for title, normalize in titles_options:\n",
    "    disp = plot_confusion_matrix(va, x_test, y_test,\n",
    "                                 display_labels=['up','down'],\n",
    "                                 cmap=plt.cm.Blues,\n",
    "                                 normalize=normalize)\n",
    "    disp.ax_.set_title(title)\n",
    "\n",
    "    print(title)\n",
    "    print(disp.confusion_matrix)\n",
    "\n",
    "plt.show()"
   ]
  },
  {
   "cell_type": "code",
   "execution_count": null,
   "metadata": {},
   "outputs": [],
   "source": [
    "import pandas as pd"
   ]
  },
  {
   "cell_type": "code",
   "execution_count": null,
   "metadata": {},
   "outputs": [],
   "source": [
    "result_up = pd.DataFrame([(y, time[y], clean_total[y],'up', up_vec[y]) for y in list(up_paper.keys())])\n",
    "result_up"
   ]
  },
  {
   "cell_type": "code",
   "execution_count": null,
   "metadata": {},
   "outputs": [],
   "source": [
    "result_down = pd.DataFrame([(y, time[y], clean_total[y],'down', down_vec[y]) for y in list(down_paper.keys())])\n",
    "result_down"
   ]
  },
  {
   "cell_type": "code",
   "execution_count": null,
   "metadata": {},
   "outputs": [],
   "source": [
    "result = result_up.append(result_down)\n",
    "print(len(result))\n",
    "result"
   ]
  },
  {
   "cell_type": "code",
   "execution_count": null,
   "metadata": {},
   "outputs": [],
   "source": [
    "with pd.ExcelWriter('StockAll_paper.xlsx') as writer:\n",
    "    result.to_excel(writer, index = False , header = ['id', 'time', 'content', 'class', 'vec'])"
   ]
  },
  {
   "cell_type": "code",
   "execution_count": null,
   "metadata": {},
   "outputs": [],
   "source": []
  }
 ],
 "metadata": {
  "kernelspec": {
   "display_name": "Python 3",
   "language": "python",
   "name": "python3"
  },
  "language_info": {
   "codemirror_mode": {
    "name": "ipython",
    "version": 3
   },
   "file_extension": ".py",
   "mimetype": "text/x-python",
   "name": "python",
   "nbconvert_exporter": "python",
   "pygments_lexer": "ipython3",
   "version": "3.6.9"
  }
 },
 "nbformat": 4,
 "nbformat_minor": 4
}
